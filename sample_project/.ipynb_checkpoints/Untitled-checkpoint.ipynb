{
 "cells": [
  {
   "cell_type": "code",
   "execution_count": 1,
   "id": "336e8782-c965-4946-b3c3-5d10a9fa535d",
   "metadata": {},
   "outputs": [
    {
     "name": "stdout",
     "output_type": "stream",
     "text": [
      "Hello World\n"
     ]
    }
   ],
   "source": [
    "print(\"Hello World\")"
   ]
  },
  {
   "cell_type": "code",
   "execution_count": 2,
   "id": "fac4ab66-87b9-41c2-91dc-051aad67beb9",
   "metadata": {},
   "outputs": [],
   "source": [
    "import pandas as pd\n",
    "import numpy as np\n",
    "import matplotlib.pyplot as plt\n",
    "import sklearn "
   ]
  },
  {
   "cell_type": "markdown",
   "id": "d3ac518b-c533-4b94-871b-5a87371f0102",
   "metadata": {},
   "source": [
    "##heart disease\n",
    "This project uses ML to predict of a patient is suffering from heart disease"
   ]
  },
  {
   "cell_type": "code",
   "execution_count": null,
   "id": "4c623cd2-9353-4ade-b766-2993ef1cc503",
   "metadata": {},
   "outputs": [],
   "source": []
  }
 ],
 "metadata": {
  "kernelspec": {
   "display_name": "Python 3 (ipykernel)",
   "language": "python",
   "name": "python3"
  },
  "language_info": {
   "codemirror_mode": {
    "name": "ipython",
    "version": 3
   },
   "file_extension": ".py",
   "mimetype": "text/x-python",
   "name": "python",
   "nbconvert_exporter": "python",
   "pygments_lexer": "ipython3",
   "version": "3.11.7"
  }
 },
 "nbformat": 4,
 "nbformat_minor": 5
}
